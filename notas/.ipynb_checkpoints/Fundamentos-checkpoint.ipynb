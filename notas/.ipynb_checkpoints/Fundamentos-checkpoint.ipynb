{
 "cells": [
  {
   "cell_type": "markdown",
   "metadata": {},
   "source": [
    "# Exemplo Inicial"
   ]
  },
  {
   "cell_type": "code",
   "execution_count": null,
   "metadata": {},
   "outputs": [],
   "source": [
    "1+3"
   ]
  },
  {
   "cell_type": "code",
   "execution_count": null,
   "metadata": {},
   "outputs": [],
   "source": [
    "print(1+6)\n",
    "print('Testei')"
   ]
  },
  {
   "cell_type": "markdown",
   "metadata": {},
   "source": [
    "# Tipos Básicos"
   ]
  },
  {
   "cell_type": "code",
   "execution_count": null,
   "metadata": {},
   "outputs": [],
   "source": [
    "#Boolean\n",
    "print(True)\n",
    "print(False)\n",
    "\n",
    "#Real ou Float\n",
    "print(1.2-1)\n",
    "\n",
    "#String\n",
    "print('String')\n",
    "print(\"String\")\n",
    "\n",
    "print('Voce é ' + 3 * 'muito ' + 'legal')\n",
    "\n",
    "#print(3 + '3' ) -> Ambiguidade de Tipos\n",
    "\n",
    "#Lista\n",
    "print([1,2,3,4])\n",
    "\n",
    "#Dicionário\n",
    "print({'nome':'Alison', 'idade':23})\n",
    "\n",
    "#None\n",
    "print(None)"
   ]
  },
  {
   "cell_type": "markdown",
   "metadata": {},
   "source": [
    "# Variáveis"
   ]
  },
  {
   "cell_type": "code",
   "execution_count": null,
   "metadata": {},
   "outputs": [],
   "source": [
    "a = 10\n",
    "b = 1.18\n",
    "\n",
    "print(a + b)\n",
    "\n",
    "a = 'String'\n",
    "print(a)\n"
   ]
  },
  {
   "cell_type": "markdown",
   "metadata": {},
   "source": [
    "# Operadores Aritméticos"
   ]
  },
  {
   "cell_type": "code",
   "execution_count": null,
   "metadata": {},
   "outputs": [],
   "source": [
    "print(1+1)\n",
    "print(1-1)\n",
    "print(2*1)\n",
    "print(9.4/2)\n",
    "# Divisão para inteiro\n",
    "print(9.4//2) \n",
    "# Exponenciação\n",
    "print(2 ** 8)\n",
    "# Módulo - Resto da divisão\n",
    "print(5 % 2)\n",
    "\n",
    "a = 12\n",
    "b = a\n",
    "\n",
    "print(a+b)\n",
    " \n",
    "\n"
   ]
  },
  {
   "cell_type": "markdown",
   "metadata": {},
   "source": [
    "# Desafio Operadores Aritméticas"
   ]
  },
  {
   "cell_type": "code",
   "execution_count": null,
   "metadata": {},
   "outputs": [],
   "source": [
    "salario = 1050\n",
    "despesas = 830\n",
    "\n",
    "percentual_comprometido = despesas / salario * 100\n",
    "\n",
    "\n",
    "print(percentual_comprometido)"
   ]
  },
  {
   "cell_type": "markdown",
   "metadata": {},
   "source": [
    "# Operadores Relacionais"
   ]
  },
  {
   "cell_type": "code",
   "execution_count": null,
   "metadata": {},
   "outputs": [],
   "source": [
    "3 > 4\n",
    "\n",
    "4 >= 3\n",
    "\n",
    "1 < 2\n",
    "\n",
    "3 <= 1\n",
    "\n",
    "3 != 2\n",
    "\n",
    "3 == 3\n",
    "\n",
    "2 == '2'\n",
    "\n"
   ]
  },
  {
   "cell_type": "markdown",
   "metadata": {},
   "source": [
    "# Operadores de Atribuição"
   ]
  },
  {
   "cell_type": "code",
   "execution_count": null,
   "metadata": {},
   "outputs": [],
   "source": [
    "a = 3\n",
    "a = a + 7\n",
    "print(a)\n",
    "a += 5\n",
    "print(a)\n",
    "\n",
    "a -= 3\n",
    "print(a)\n",
    "\n",
    "a *= 2\n",
    "print(a)\n",
    "\n",
    "a /= 4\n",
    "print(a)\n",
    "\n",
    "a %= 4\n",
    "print(a)\n",
    "\n",
    "a **= 8\n",
    "print(a)\n",
    "\n",
    "a //= 255\n",
    "print(a)"
   ]
  },
  {
   "cell_type": "markdown",
   "metadata": {},
   "source": [
    "# Operadores Lógicos"
   ]
  },
  {
   "cell_type": "code",
   "execution_count": null,
   "metadata": {},
   "outputs": [],
   "source": [
    "True or False\n",
    "7 != 3 and 2 > 3\n",
    "\n",
    "# Está ensolarado e vou para o Shopping\n",
    "\n",
    "# Tabela Verdade do AND\n",
    "True and True\n",
    "True and False\n",
    "False and True\n",
    "False and False\n",
    "\n",
    "# Tabela Verdade do OR\n",
    "True or True\n",
    "True or False\n",
    "False or True\n",
    "False or False\n",
    "\n",
    "# Tabela Verdade do XOR -- Exclusivo, tem que ser um ou o outro\n",
    "True != True\n",
    "True != False\n",
    "False != True\n",
    "False != False\n",
    "\n",
    "# Operador de Negação (unário)\n",
    "not True\n",
    "not False\n",
    "\n",
    "# CUIDADO! Bit a Bit\n",
    "\n",
    "True & True\n",
    "False | True\n",
    "True ^ False\n",
    "\n",
    "saldo = 1000\n",
    "salario = 4000\n",
    "despesas = 2967\n",
    "\n",
    "saldo_positivo = saldo > 0\n",
    "despesas_controladas = salario - despesas >= 0.2 * salario\n",
    "\n",
    "meta =  saldo_positivo and despesas_controladas\n",
    "meta\n",
    "\n",
    "\n"
   ]
  },
  {
   "cell_type": "markdown",
   "metadata": {},
   "source": [
    "# Desafio Operadores Lógicos"
   ]
  },
  {
   "cell_type": "code",
   "execution_count": null,
   "metadata": {},
   "outputs": [],
   "source": [
    "# Os Trabalhos\n",
    "\n",
    "trabalho_terca = False\n",
    "trabalho_quinta = False\n",
    "\n",
    "\n",
    "# T e T = TV 50 + sorvete\n",
    "# T e F = TV 32 + sorvete\n",
    "# F e F = Saúde\n",
    "\n",
    "tv_50 = trabalho_terca and trabalho_quinta\n",
    "sorvete = trabalho_terca or trabalho_quinta\n",
    "tv_32 = trabalho_terca != trabalho_quinta #xor\n",
    "mais_saudavel = not sorvete\n",
    "\n",
    "print('Tv50={} Tv32={} Sorvete={} Saudável={}'\n",
    "     .format(tv_50, tv_32, sorvete, mais_saudavel))\n",
    "\n",
    "#\"{0}, {2} = {1}\".format(1, False ,'resultado')"
   ]
  },
  {
   "cell_type": "markdown",
   "metadata": {},
   "source": [
    "# Operadores Unários"
   ]
  },
  {
   "cell_type": "code",
   "execution_count": null,
   "metadata": {},
   "outputs": [],
   "source": [
    "a = 3\n",
    "# a++ - Forma Errada\n",
    "\n",
    "a += 1\n",
    "\n",
    "#print(a)\n",
    "\n",
    "# a-- - Forma Errada\n",
    "a -= 2\n",
    "print(a)\n",
    "\n",
    "#-a ou +a alteram para negativo e positivo\n",
    "\n",
    "not 0\n",
    "not 1\n",
    "not -2\n",
    "not False\n",
    "not not True"
   ]
  },
  {
   "cell_type": "markdown",
   "metadata": {},
   "source": [
    "# Operadores Ternários"
   ]
  },
  {
   "cell_type": "code",
   "execution_count": null,
   "metadata": {},
   "outputs": [],
   "source": [
    "esta_chovendo = False\n",
    "'Hoje estou com as roupas ' + ( ' secas.',' molhadas.' )[esta_chovendo]\n",
    "# Sendo a primeira palavra falsa e a segunda mais próxima da váriavel verdadeira\n",
    "\n",
    "'Hoje estou com as roupas ' + ('molhadas. ' if esta_chovendo else 'secas.')\n",
    "# Hoje estou com as roupas molhadas se estiver chovendo, senão elas estão secas.\n",
    "\n"
   ]
  },
  {
   "cell_type": "markdown",
   "metadata": {},
   "source": [
    " # Mais Operadores\n",
    " "
   ]
  },
  {
   "cell_type": "code",
   "execution_count": null,
   "metadata": {},
   "outputs": [],
   "source": [
    "# Operador de Membro\n",
    "\n",
    "lista = [1,2,3, 'Vitória', 'Grazi', '?']\n",
    "2 in lista\n",
    "'Vitória' in lista\n",
    "'Grazi' not in lista\n",
    "\n",
    "# Operador de Identidade\n",
    "x = 3\n",
    "y = x\n",
    "z = 3\n",
    "x is y\n",
    "y is z\n",
    "x is not z"
   ]
  },
  {
   "cell_type": "markdown",
   "metadata": {},
   "source": [
    "# Builtins"
   ]
  },
  {
   "cell_type": "code",
   "execution_count": 4,
   "metadata": {},
   "outputs": [
    {
     "name": "stdout",
     "output_type": "stream",
     "text": [
      "3.3333333333333335\n"
     ]
    },
    {
     "data": {
      "text/plain": [
       "['In',\n",
       " 'Out',\n",
       " '_',\n",
       " '_1',\n",
       " '_2',\n",
       " '__',\n",
       " '___',\n",
       " '__builtin__',\n",
       " '__builtins__',\n",
       " '__doc__',\n",
       " '__loader__',\n",
       " '__name__',\n",
       " '__package__',\n",
       " '__spec__',\n",
       " '_dh',\n",
       " '_i',\n",
       " '_i1',\n",
       " '_i2',\n",
       " '_i3',\n",
       " '_ih',\n",
       " '_ii',\n",
       " '_iii',\n",
       " '_oh',\n",
       " 'exit',\n",
       " 'get_ipython',\n",
       " 'quit']"
      ]
     },
     "execution_count": 4,
     "metadata": {},
     "output_type": "execute_result"
    }
   ],
   "source": [
    "# type()\n",
    "type(1)\n",
    "\n",
    "__builtins__.type('Fala aí!')\n",
    "__builtins__.print(10/3)\n",
    "\n",
    "#__builtins__.help(__builtins__.dir)\n",
    "\n",
    "1 +2\n",
    "dir()\n",
    "_\n"
   ]
  },
  {
   "cell_type": "markdown",
   "metadata": {},
   "source": [
    "# Conversão de Tipos"
   ]
  },
  {
   "cell_type": "markdown",
   "metadata": {},
   "source": [
    "2 + 3\n",
    "\n",
    "'2' + '3'\n",
    "\n",
    "#2 + '3' -> Erro de tipos\n",
    "\n",
    "a = 2\n",
    "b = '3'\n",
    "\n",
    "print(type(a))\n",
    "print(type(b))\n",
    "\n",
    "print(a + int(b))\n",
    "print(str(a)+(b))\n",
    "\n"
   ]
  },
  {
   "cell_type": "markdown",
   "metadata": {},
   "source": [
    " # Coerção Automática"
   ]
  },
  {
   "cell_type": "code",
   "execution_count": 13,
   "metadata": {},
   "outputs": [
    {
     "data": {
      "text/plain": [
       "2"
      ]
     },
     "execution_count": 13,
     "metadata": {},
     "output_type": "execute_result"
    }
   ],
   "source": [
    "10 / 2\n",
    "type(10/2)\n",
    "\n",
    "10 // 3\n",
    "type(10 // 3.3)\n",
    "\n",
    "10 / 2.5\n",
    "\n",
    "2 + True\n",
    "\n",
    "2 + False"
   ]
  },
  {
   "cell_type": "markdown",
   "metadata": {},
   "source": [
    "# Tipos Númericos\n",
    "\n",
    "### Int e Float\n",
    "\n",
    "\n",
    "\n"
   ]
  },
  {
   "cell_type": "code",
   "execution_count": 23,
   "metadata": {},
   "outputs": [
    {
     "name": "stdout",
     "output_type": "stream",
     "text": [
      "7.5\n",
      "2.5\n",
      "12.5\n",
      "2.0\n"
     ]
    },
    {
     "data": {
      "text/plain": [
       "2"
      ]
     },
     "execution_count": 23,
     "metadata": {},
     "output_type": "execute_result"
    }
   ],
   "source": [
    "\n",
    "dir(int)\n",
    "dir(float)\n",
    "\n",
    "a = 5\n",
    "b = 2.5\n",
    "\n",
    "#Todas as vezes que tiver uma operação de um inteiro \n",
    "#com um float a resposta final é float\n",
    "print(a + b)\n",
    "print(a - b)\n",
    "print(a * b)\n",
    "print(a / b)\n",
    "\n",
    "b.is_integer()\n",
    "5.0.is_integer()\n",
    "\n",
    "\n",
    "int.__add__(2,3)\n",
    "\n",
    "#Conversão absoluta -- Troca de Sinais positivo e negativo\n",
    "(-2).__abs__()\n",
    "abs(-2)\n",
    "\n",
    "\n"
   ]
  },
  {
   "cell_type": "code",
   "execution_count": 32,
   "metadata": {},
   "outputs": [
    {
     "data": {
      "text/plain": [
       "Decimal('3.3')"
      ]
     },
     "execution_count": 32,
     "metadata": {},
     "output_type": "execute_result"
    }
   ],
   "source": [
    "# 1.1 + 2.2\n",
    "\n",
    "from decimal import Decimal, getcontext\n",
    "Decimal(1) / Decimal(7)\n",
    "\n",
    "getcontext().prec = 2\n",
    "Decimal(1) / Decimal(7)\n",
    "\n",
    "Decimal.max(Decimal(1), Decimal(7))\n",
    "\n",
    "getcontext().prec = 2\n",
    "Decimal(1.1) + Decimal(2.2)\n"
   ]
  },
  {
   "cell_type": "markdown",
   "metadata": {},
   "source": [
    "# Tipo String"
   ]
  },
  {
   "cell_type": "code",
   "execution_count": 43,
   "metadata": {},
   "outputs": [
    {
     "name": "stdout",
     "output_type": "stream",
     "text": [
      "  Teste \n",
      ".... Multiplas \n",
      "..... linhas\n"
     ]
    }
   ],
   "source": [
    "dir(str)\n",
    "\n",
    "nome = 'Alison Keuver'\n",
    "\n",
    "nome\n",
    "nome[0]\n",
    "\n",
    "# nome[0] = 'P' ... Eroor o valor da String não pode ser alterado\n",
    "\n",
    "\"Alison D' Silva\" == 'Alison D\\' Silva'\n",
    "\n",
    "# Comentário de Múltiplas Linhas\n",
    "doc = \"\"\"  Teste \n",
    ".... Multiplas \n",
    "..... linhas\"\"\"\n",
    "\n",
    "print(doc)\n",
    "\n"
   ]
  },
  {
   "cell_type": "code",
   "execution_count": 57,
   "metadata": {},
   "outputs": [
    {
     "data": {
      "text/plain": [
       "'aluaP anA'"
      ]
     },
     "execution_count": 57,
     "metadata": {},
     "output_type": "execute_result"
    }
   ],
   "source": [
    "nome = 'Ana Paula'\n",
    "\n",
    "nome[0]\n",
    "nome[4]\n",
    "nome[-2]\n",
    "nome[4:]\n",
    "nome[-5:]\n",
    "nome[:3]\n",
    "nome[2:6]\n",
    "\n",
    "numeros = '1234567890'\n",
    "\n",
    "numeros[1::2] # Até o Final os \"::\" pulando de 2 em 2\n",
    "\n",
    "numeros[:: -1]  # Truque para inverter\n",
    "\n",
    "nome = 'Ana Paula'\n",
    "\n",
    "nome[:: -1]"
   ]
  },
  {
   "cell_type": "code",
   "execution_count": 68,
   "metadata": {},
   "outputs": [
    {
     "data": {
      "text/plain": [
       "['O QUE EU FAÇO MEU ', 'EUS ? =( ']"
      ]
     },
     "execution_count": 68,
     "metadata": {},
     "output_type": "execute_result"
    }
   ],
   "source": [
    "frase = 'O que eu faço meu Deus ? =( '\n",
    "'eu' in frase\n",
    "'Vitória' not in frase\n",
    "len(frase)\n",
    "frase.lower()\n",
    "frase = frase.upper()\n",
    "frase\n",
    "\n",
    "frase.split()\n",
    "frase.split('D')"
   ]
  },
  {
   "cell_type": "markdown",
   "metadata": {},
   "source": [
    "# Listas\n",
    "\n",
    "## Sequência Mutável"
   ]
  },
  {
   "cell_type": "code",
   "execution_count": 21,
   "metadata": {},
   "outputs": [
    {
     "data": {
      "text/plain": [
       "['Maceió', 1]"
      ]
     },
     "execution_count": 21,
     "metadata": {},
     "output_type": "execute_result"
    }
   ],
   "source": [
    "lista = []\n",
    "type(lista)\n",
    "dir(lista)\n",
    "#help(list)\n",
    "\n",
    "#Tamanho da lista(Array)\n",
    "len(lista)\n",
    "\n",
    "# Inserir elementos na lista\n",
    "lista.append(1)\n",
    "lista.append(5)\n",
    "\n",
    "\n",
    "\n",
    "nova_lista = [1,5, 'Maceió']\n",
    "nova_lista\n",
    "\n",
    "# Remover elementos\n",
    "nova_lista.remove(5)\n",
    "nova_lista\n",
    "\n",
    "nova_lista.reverse()\n",
    "nova_lista"
   ]
  },
  {
   "cell_type": "code",
   "execution_count": 29,
   "metadata": {},
   "outputs": [
    {
     "data": {
      "text/plain": [
       "'Longe'"
      ]
     },
     "execution_count": 29,
     "metadata": {},
     "output_type": "execute_result"
    }
   ],
   "source": [
    "lista = [1, 5, 'Maceió', 'Moça', 'Longe']\n",
    "\n",
    "# Pegar posição do item\n",
    "lista.index('Moça')\n",
    "\n",
    "lista[2]\n",
    "1 in lista\n",
    "lista[0]\n",
    "lista[-1]"
   ]
  },
  {
   "cell_type": "code",
   "execution_count": 36,
   "metadata": {},
   "outputs": [
    {
     "data": {
      "text/plain": [
       "[1, 5, 'Moça', 'Longe']"
      ]
     },
     "execution_count": 36,
     "metadata": {},
     "output_type": "execute_result"
    }
   ],
   "source": [
    "lista = [1, 5, 'Maceió', 'Moça', 'Longe']\n",
    "\n",
    "# Pega os valores do indice 1 até o 3, porém não retorna o 3.\n",
    "lista[1:3]\n",
    "\n",
    "# Pega os valores do indice 1 até o final, porém não retorna o 1.\n",
    "lista[1:]\n",
    "\n",
    "# Pega todos os valores da lista.\n",
    "lista[:]\n",
    "\n",
    "# Pega de 2 em dois\n",
    "lista[::2]\n",
    "\n",
    "# deletar indice\n",
    "del lista[2]\n",
    "\n",
    "lista"
   ]
  },
  {
   "cell_type": "markdown",
   "metadata": {},
   "source": [
    "# Tuplas\n",
    "\n",
    "## Sequência Imutável"
   ]
  },
  {
   "cell_type": "code",
   "execution_count": 51,
   "metadata": {},
   "outputs": [
    {
     "data": {
      "text/plain": [
       "1"
      ]
     },
     "execution_count": 51,
     "metadata": {},
     "output_type": "execute_result"
    }
   ],
   "source": [
    "tupla = tuple()\n",
    "tupla = ()\n",
    "type(tupla)\n",
    "\n",
    "#String\n",
    "tupla = ('um')\n",
    "type(tupla)\n",
    "\n",
    "#Criar tupla deve-se add uma virgula no final senão fica como uma string comum.\n",
    "tupla = ('um',)\n",
    "tupla[0]\n",
    "\n",
    "cores = ('verde', 'amarelo', 'azul', 'branco')\n",
    "cores[0]\n",
    "cores[-1]\n",
    "cores[::]\n",
    "\n",
    "#Posição dentro da tupla\n",
    "cores.index('amarelo')\n",
    "\n",
    "#Contar quantos elementos possuem\n",
    "cores.count('azul')"
   ]
  },
  {
   "cell_type": "markdown",
   "metadata": {},
   "source": [
    "# Dicionário\n",
    "\n",
    "## Objeto em JS"
   ]
  },
  {
   "cell_type": "code",
   "execution_count": 59,
   "metadata": {},
   "outputs": [
    {
     "data": {
      "text/plain": [
       "['Não tem Laranja']"
      ]
     },
     "execution_count": 59,
     "metadata": {},
     "output_type": "execute_result"
    }
   ],
   "source": [
    "feira = { 'nome':'Uva', 'forma':'Redonda', 'tipos':['Roxa','Verde']}\n",
    "feira['nome']\n",
    "feira['tipos'][1]\n",
    "\n",
    "feira.keys()\n",
    "feira.values()\n",
    "feira.items()\n",
    "feira.get('forma')\n",
    "\n",
    "feira.get('Laranja',['Não tem Laranja'])\n"
   ]
  },
  {
   "cell_type": "code",
   "execution_count": 75,
   "metadata": {},
   "outputs": [
    {
     "data": {
      "text/plain": [
       "{}"
      ]
     },
     "execution_count": 75,
     "metadata": {},
     "output_type": "execute_result"
    }
   ],
   "source": [
    "pessoa = {'nome':'Alison Keuver', 'idade':23, 'cursos':['Angular','Python']}\n",
    "pessoa['idade'] = 24\n",
    "pessoa['cursos'].append('Postgress')\n",
    "\n",
    "#le e exlui o item do dicionário\n",
    "pessoa.pop('idade')\n",
    "\n",
    "pessoa.update({'idade':23, 'Sexo':'M'})\n",
    "pessoa\n",
    "\n",
    "del pessoa['cursos']\n",
    "pessoa\n",
    "\n",
    "pessoa.clear()\n",
    "pessoa"
   ]
  },
  {
   "cell_type": "markdown",
   "metadata": {},
   "source": [
    "# Conjuntos (Set)"
   ]
  },
  {
   "cell_type": "code",
   "execution_count": 11,
   "metadata": {},
   "outputs": [
    {
     "name": "stdout",
     "output_type": "stream",
     "text": [
      "{'i', 'l', 's', 'o', 'n', 'A'}\n"
     ]
    },
    {
     "data": {
      "text/plain": [
       "{1}"
      ]
     },
     "execution_count": 11,
     "metadata": {},
     "output_type": "execute_result"
    }
   ],
   "source": [
    "#a = {1,2,3} - Ex. Conjunto\n",
    "#a = [1,2,3] - Ex. Lista\n",
    "#a = (1,2,3) - Ex. Tupla\n",
    "\n",
    "a = {1,2,3}\n",
    "# a[0] -- Erro não recebe indíce\n",
    "\n",
    "#Não Garante Orderação e nem repetição dos itens\n",
    "a = set (\"Alison\")\n",
    "print(a)\n",
    "\n",
    "{1,2,3} == {3,2,1,3}\n",
    "\n",
    "# operações\n",
    "\n",
    "c1 = {1,2}\n",
    "c2 = {2,3}\n",
    "\n",
    "c1.union(c2) #Une os conjuntos retirando os iguais\n",
    "c1.intersection(c2) # Valor em comum entre os conjuntos\n",
    "c1.update(c2) # Une od cjs criando um novo\n",
    "c1\n",
    "\n",
    "c2 <= c1 # subconjunto\n",
    "\n",
    "{1,2,3} - {2,3} # Diferença dos conjuntos\n",
    "c1 - c2\n",
    "\n",
    "\n",
    "\n"
   ]
  },
  {
   "cell_type": "markdown",
   "metadata": {},
   "source": [
    "# Interpolação"
   ]
  },
  {
   "cell_type": "code",
   "execution_count": 22,
   "metadata": {},
   "outputs": [
    {
     "name": "stdout",
     "output_type": "stream",
     "text": [
      "Nome: Mujica Idade: 99  Idade Real: 99.00 Verdade isso ? True \n",
      "Nome: João Idade:45\n",
      "Nome: João Idade: 45 1026\n"
     ]
    }
   ],
   "source": [
    "#%s -- String\n",
    "#%d -- Inteiro\n",
    "#%f -- float\n",
    "#%r -- Boolean\n",
    "\n",
    "\n",
    "# Forma Antiga\n",
    "nome, idade, idadeReal, verdade  = 'Mujica', 99, 99.457,True \n",
    "print('Nome: %s Idade: %d  Idade Real: %.2f Verdade isso ? %r ' % (nome, idade,idade, verdade)) \n",
    "\n",
    "nome, idade = 'João', 45 \n",
    "\n",
    "print('Nome: {0} Idade:{1}'.format(nome,idade)) # python <3.6\n",
    "\n",
    "print(f'Nome: {nome} Idade: {idade} {2** 10 + 2}') # python >= 3.6\n",
    "\n"
   ]
  }
 ],
 "metadata": {
  "kernelspec": {
   "display_name": "Python 3",
   "language": "python",
   "name": "python3"
  },
  "language_info": {
   "codemirror_mode": {
    "name": "ipython",
    "version": 3
   },
   "file_extension": ".py",
   "mimetype": "text/x-python",
   "name": "python",
   "nbconvert_exporter": "python",
   "pygments_lexer": "ipython3",
   "version": "3.7.4"
  }
 },
 "nbformat": 4,
 "nbformat_minor": 2
}
